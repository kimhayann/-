{
  "nbformat": 4,
  "nbformat_minor": 0,
  "metadata": {
    "colab": {
      "name": "Python_1.ipynb",
      "provenance": [],
      "authorship_tag": "ABX9TyMXEm1E4d5eD3uW2+/FjuvQ",
      "include_colab_link": true
    },
    "kernelspec": {
      "name": "python3",
      "display_name": "Python 3"
    },
    "language_info": {
      "name": "python"
    }
  },
  "cells": [
    {
      "cell_type": "markdown",
      "metadata": {
        "id": "view-in-github",
        "colab_type": "text"
      },
      "source": [
        "<a href=\"https://colab.research.google.com/github/kimhayann/-/blob/main/Python_1.ipynb\" target=\"_parent\"><img src=\"https://colab.research.google.com/assets/colab-badge.svg\" alt=\"Open In Colab\"/></a>"
      ]
    },
    {
      "cell_type": "code",
      "execution_count": null,
      "metadata": {
        "colab": {
          "base_uri": "https://localhost:8080/"
        },
        "id": "M-m_UlTbPRCv",
        "outputId": "9b2550a5-c591-46c8-dbd8-7ddf3ba9297b"
      },
      "outputs": [
        {
          "output_type": "stream",
          "name": "stdout",
          "text": [
            "Hello World\n"
          ]
        }
      ],
      "source": [
        "print(\"Hello World\")"
      ]
    },
    {
      "cell_type": "code",
      "execution_count": null,
      "metadata": {
        "colab": {
          "base_uri": "https://localhost:8080/"
        },
        "outputId": "7c575d32-48cd-474b-8740-55324e240a6f",
        "id": "xz8N_F41Pxi5"
      },
      "outputs": [
        {
          "output_type": "stream",
          "name": "stdout",
          "text": [
            "Hello World\n"
          ]
        }
      ],
      "source": [
        "print('Hello World')"
      ]
    },
    {
      "cell_type": "code",
      "source": [
        "print(1+2)"
      ],
      "metadata": {
        "colab": {
          "base_uri": "https://localhost:8080/"
        },
        "id": "snP9GBzXP2t7",
        "outputId": "d01206be-caab-4d85-c432-c890f319c84d"
      },
      "execution_count": null,
      "outputs": [
        {
          "output_type": "stream",
          "name": "stdout",
          "text": [
            "3\n"
          ]
        }
      ]
    },
    {
      "cell_type": "code",
      "source": [
        "print(2*3)"
      ],
      "metadata": {
        "colab": {
          "base_uri": "https://localhost:8080/"
        },
        "id": "k-lzE-EBP6iD",
        "outputId": "91a2abf6-3f9b-4def-a7d8-742a1f3fc18d"
      },
      "execution_count": null,
      "outputs": [
        {
          "output_type": "stream",
          "name": "stdout",
          "text": [
            "6\n"
          ]
        }
      ]
    },
    {
      "cell_type": "code",
      "source": [
        "print(True)"
      ],
      "metadata": {
        "colab": {
          "base_uri": "https://localhost:8080/"
        },
        "id": "1qQYZnaaRtBN",
        "outputId": "c1d35719-695e-49a9-9e49-39f0b163f2b1"
      },
      "execution_count": 6,
      "outputs": [
        {
          "output_type": "stream",
          "name": "stdout",
          "text": [
            "True\n"
          ]
        }
      ]
    },
    {
      "cell_type": "code",
      "source": [
        "print(False)"
      ],
      "metadata": {
        "colab": {
          "base_uri": "https://localhost:8080/"
        },
        "id": "9cmNRyucRxfD",
        "outputId": "6ffe0878-9a41-4b80-935e-f5cc9220d22b"
      },
      "execution_count": 7,
      "outputs": [
        {
          "output_type": "stream",
          "name": "stdout",
          "text": [
            "False\n"
          ]
        }
      ]
    },
    {
      "cell_type": "code",
      "source": [
        "a=3;b=4;c=a+b\n",
        "print(c);print(a);print(b)"
      ],
      "metadata": {
        "colab": {
          "base_uri": "https://localhost:8080/"
        },
        "id": "2Gku5_qoSMs9",
        "outputId": "b6c16621-093f-480e-af56-ebfeb60044c5"
      },
      "execution_count": 10,
      "outputs": [
        {
          "output_type": "stream",
          "name": "stdout",
          "text": [
            "7\n",
            "3\n",
            "4\n"
          ]
        }
      ]
    },
    {
      "cell_type": "code",
      "source": [
        "a=\"안녕하세요.\";\n",
        "b=\"반갑습니다.\";\n",
        "c=a+b;\n",
        "print(c)"
      ],
      "metadata": {
        "colab": {
          "base_uri": "https://localhost:8080/"
        },
        "id": "-NsNTECdTlL9",
        "outputId": "145197cf-ec87-4f3f-b668-664cecce2e7b"
      },
      "execution_count": 12,
      "outputs": [
        {
          "output_type": "stream",
          "name": "stdout",
          "text": [
            "안녕하세요.반갑습니다.\n"
          ]
        }
      ]
    },
    {
      "cell_type": "code",
      "source": [
        "a=\"안녕하세요.\";\n",
        "b=a*10;\n",
        "print(b)"
      ],
      "metadata": {
        "colab": {
          "base_uri": "https://localhost:8080/"
        },
        "id": "Sl54FDCaWOcN",
        "outputId": "2eb47962-09e8-413c-c61c-f5981350dcec"
      },
      "execution_count": 13,
      "outputs": [
        {
          "output_type": "stream",
          "name": "stdout",
          "text": [
            "안녕하세요.안녕하세요.안녕하세요.안녕하세요.안녕하세요.안녕하세요.안녕하세요.안녕하세요.안녕하세요.안녕하세요.\n"
          ]
        }
      ]
    },
    {
      "cell_type": "code",
      "source": [
        "print(\"###############\")\n",
        "print(\"#\"*15)"
      ],
      "metadata": {
        "colab": {
          "base_uri": "https://localhost:8080/"
        },
        "id": "3LlFz2aGWfUb",
        "outputId": "51529958-d186-4cb1-9f70-62c4def63f8e"
      },
      "execution_count": 16,
      "outputs": [
        {
          "output_type": "stream",
          "name": "stdout",
          "text": [
            "###############\n",
            "###############\n"
          ]
        }
      ]
    },
    {
      "cell_type": "markdown",
      "source": [
        "아버지와 어머니 그리고 삼촌에게 감사한 마음을 표현하고 싶습니다.아버지에게는 10만원,어머니에게는 15만원,삼촌에게는 \"감사합니다.\"변수:_Father,_Mother,_Uncle"
      ],
      "metadata": {
        "id": "mDCSnpZxcPqE"
      }
    },
    {
      "cell_type": "code",
      "source": [
        "_Father=\"100,000\"\n",
        "_Mother=\"150,000\"\n",
        "_Uncle=\"감사합니다.\"\n",
        "Thanks=_Father,_Mother,_Uncle\n",
        "print(\"아버지=\",_Father,\"원\")\n",
        "print(\"어머니=\",_Mother,\"원\")\n",
        "print(\"삼촌=\",_Uncle,)"
      ],
      "metadata": {
        "colab": {
          "base_uri": "https://localhost:8080/"
        },
        "id": "gNlkt16pW0Bc",
        "outputId": "de75e527-7115-4e22-8afa-9c1fea9d9c12"
      },
      "execution_count": 21,
      "outputs": [
        {
          "output_type": "stream",
          "name": "stdout",
          "text": [
            "아버지= 100,000 원\n",
            "어머니= 150,000 원\n",
            "삼촌= 감사합니다.\n"
          ]
        }
      ]
    },
    {
      "cell_type": "markdown",
      "source": [
        "변수의 규칙:문자 또는 _로 시작(Father,father,_father),문자,숫자,_구성(Father69,father55,father_56),공백은 절대 안된다.안쓰는 것이 좋다.특수문자 절대 안된다. "
      ],
      "metadata": {
        "id": "r7oneuMXc1Qz"
      }
    },
    {
      "cell_type": "markdown",
      "source": [
        "FATHER,father,MOTHER,mother,_Father,_father,Keyword(True,False,for,while,if,continue,break,class....)"
      ],
      "metadata": {
        "id": "g9xw2yFJgK40"
      }
    },
    {
      "cell_type": "markdown",
      "source": [
        "숫자자료형=숫자,문자자료형=모든 문자들.."
      ],
      "metadata": {
        "id": "UQU6uEMxgQ4c"
      }
    },
    {
      "cell_type": "code",
      "source": [
        "a=2\n",
        "b=\"2\"\n",
        "c=a+int(b)\n",
        "print(c)"
      ],
      "metadata": {
        "colab": {
          "base_uri": "https://localhost:8080/"
        },
        "id": "pLULicDSawa8",
        "outputId": "486575a5-58cc-4771-d59d-1bb856f7e778"
      },
      "execution_count": 22,
      "outputs": [
        {
          "output_type": "stream",
          "name": "stdout",
          "text": [
            "4\n"
          ]
        }
      ]
    },
    {
      "cell_type": "markdown",
      "source": [
        "형변환:정수형을 변환할때int(),실수형으로 변환할때float(),문자자료형으로 변환하고자할때str(),int(float(\"2.5\"))"
      ],
      "metadata": {
        "id": "Gwz3XfPBenoD"
      }
    },
    {
      "cell_type": "markdown",
      "source": [
        "산술연산자:+더하기(print(4+3).-빼기(print(2-1),*곱하기(print(5*4),/나누기(print(4/2)),%나머지print(5%2),//몫print(6//2).**거듭제곱print(4**2)"
      ],
      "metadata": {
        "id": "O1iH8r3dfJzN"
      }
    }
  ]
}