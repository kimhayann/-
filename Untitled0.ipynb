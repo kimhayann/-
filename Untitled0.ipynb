{
  "nbformat": 4,
  "nbformat_minor": 0,
  "metadata": {
    "colab": {
      "name": "Untitled0.ipynb",
      "provenance": [],
      "authorship_tag": "ABX9TyOhRdUQFKd12oJv+uD6bok/",
      "include_colab_link": true
    },
    "kernelspec": {
      "name": "python3",
      "display_name": "Python 3"
    },
    "language_info": {
      "name": "python"
    }
  },
  "cells": [
    {
      "cell_type": "markdown",
      "metadata": {
        "id": "view-in-github",
        "colab_type": "text"
      },
      "source": [
        "<a href=\"https://colab.research.google.com/github/kimhayann/-/blob/main/Untitled0.ipynb\" target=\"_parent\"><img src=\"https://colab.research.google.com/assets/colab-badge.svg\" alt=\"Open In Colab\"/></a>"
      ]
    },
    {
      "cell_type": "code",
      "execution_count": null,
      "metadata": {
        "id": "CSkaT2jBDTIw",
        "colab": {
          "base_uri": "https://localhost:8080/"
        },
        "outputId": "ad17d0e3-3d0e-433f-f7ff-6bbd28ec298e"
      },
      "outputs": [
        {
          "output_type": "stream",
          "name": "stdout",
          "text": [
            "3개의 정수값을 입력하시오\n",
            "n1의 정수값을 입력: 10\n",
            "n1의 정수값을 입력: 20\n",
            "n1의 정수값을 입력: 30\n",
            "20.0\n"
          ]
        }
      ],
      "source": [
        "print(\"3개의 정수값을 입력하시오\")\n",
        "n1 = int(input(\"n1의 정수값을 입력: \"))\n",
        "n2 = int(input(\"n1의 정수값을 입력: \")) \n",
        "n3 = int(input(\"n1의 정수값을 입력: \"))\n",
        "total = n1 + n2 + n3;\n",
        "average = total /3 ;\n",
        "print(average)"
      ]
    },
    {
      "cell_type": "code",
      "source": [
        "import math \n",
        "#from math import sqrt\n",
        "print(\"'a, b, c' 3개의 값을 입력하시오\")\n",
        "a = int(input(\"Enter the a: \")) \n",
        "b = int(input(\"Enter the b: \"))\n",
        "c = int(input(\"Enter the c: \"))\n",
        "\n",
        "d = math.sqrt(b*b) - (4*a*c);\n",
        "#d = sqrt(b*b) - (4*a*c);\n",
        "x1 = (-b+d) / (2 * a);\n",
        "x2 = (-b-d) / (2 * a);\n",
        "print(x1, x2)"
      ],
      "metadata": {
        "colab": {
          "base_uri": "https://localhost:8080/"
        },
        "id": "ro02wX2uIHpa",
        "outputId": "eb9388a3-7abf-4954-a900-1b5f310930f2"
      },
      "execution_count": null,
      "outputs": [
        {
          "output_type": "stream",
          "name": "stdout",
          "text": [
            "'a, b, c' 3개의 값을 입력하시오\n",
            "Enter the a: 10\n",
            "Enter the b: 20\n",
            "Enter the c: 30\n",
            "-60.0 58.0\n"
          ]
        }
      ]
    },
    {
      "cell_type": "code",
      "source": [
        "import math\n",
        "\n",
        "a = int(input(\"a의 값을 입력하세요: \"))\n",
        "b = int(input(\"b의 값을 입력하세요: \"))\n",
        "c = int(input(\"c의 값을 입력하세요: \"))\n",
        "\n",
        "x1 = ( (-b + (math.sqrt(math.pow(b,2) - 4 * a * c)))/2 * a)\n",
        "x2 = ( (-b - (math.sqrt(math.pow(b,2) - 4 * a * c)))/2 * a)\n",
        "2\n",
        "print(\"x1 = \" , x1)\n",
        "print(\"x2 = \" , x2)                                                                                                                                                                                                                                                                                                                                                                                  "
      ],
      "metadata": {
        "colab": {
          "base_uri": "https://localhost:8080/"
        },
        "id": "V_lGIJVnJOvT",
        "outputId": "67e57ecc-739f-4e07-b8a7-b5a1836a82ed"
      },
      "execution_count": null,
      "outputs": [
        {
          "output_type": "stream",
          "name": "stdout",
          "text": [
            "a의 값을 입력하세요: 1\n",
            "b의 값을 입력하세요: -2\n",
            "c의 값을 입력하세요: -6\n",
            "x1 =  3.6457513110645907\n",
            "x2 =  -1.6457513110645907\n"
          ]
        }
      ]
    },
    {
      "cell_type": "code",
      "source": [
        "total = 0 \n",
        "counter = 1 \n",
        "while counter <= 10:\n",
        " grade=int(input (\"Enter grade: \"))\n",
        " total = grade + total \n",
        " counter = counter + 1\n",
        "average = total / 10\n",
        "print(average)"
      ],
      "metadata": {
        "colab": {
          "base_uri": "https://localhost:8080/"
        },
        "id": "_G38m8YlNSj-",
        "outputId": "c47ccf20-c496-4c33-ca04-d06025893e0a"
      },
      "execution_count": null,
      "outputs": [
        {
          "output_type": "stream",
          "name": "stdout",
          "text": [
            "Enter grade: 10\n",
            "Enter grade: 20\n",
            "Enter grade: 30\n",
            "Enter grade: 40\n",
            "Enter grade: 50\n",
            "Enter grade: 60\n",
            "Enter grade: 70\n",
            "Enter grade: 80\n",
            "Enter grade: 90\n",
            "Enter grade: 100\n",
            "55.0\n"
          ]
        }
      ]
    }
  ]
}